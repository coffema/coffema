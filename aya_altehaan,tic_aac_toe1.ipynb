{
  "cells": [
    {
      "cell_type": "markdown",
      "metadata": {
        "id": "view-in-github",
        "colab_type": "text"
      },
      "source": [
        "<a href=\"https://colab.research.google.com/github/coffema/coffema/blob/main/aya_altehaan%2Ctic_aac_toe1.ipynb\" target=\"_parent\"><img src=\"https://colab.research.google.com/assets/colab-badge.svg\" alt=\"Open In Colab\"/></a>"
      ]
    },
    {
      "cell_type": "code",
      "execution_count": null,
      "metadata": {
        "id": "2l7UeIjn8swl"
      },
      "outputs": [],
      "source": [
        "from IPython.display import clear_output\n",
        "\n",
        "def display_board(board):\n",
        "     print(board[0] ,\"|\",board[1],\"|\",board[2])\n",
        "     print('--' *5)\n",
        "     print(board[3],\"|\",board[4],\"|\",board[5])\n",
        "     print('--' *5)\n",
        "     print(board[6],\"|\",board[7],\"|\",board[8])\n",
        "pass"
      ]
    },
    {
      "cell_type": "code",
      "execution_count": null,
      "metadata": {
        "id": "IdXVh---87fI"
      },
      "outputs": [],
      "source": [
        "from IPython.core.payload import PayloadManager\n",
        "def player_input():\n",
        "    global player1\n",
        "    global player2\n",
        "    global p\n",
        "    while True:\n",
        "      player1=[0,'x','o']\n",
        "      player2=[0,'o','x']\n",
        "      p = int(input('player1 would like to take x or o ? for x print 1 and for o print 2: '))\n",
        "      \n",
        "      if (player1[p]== 'x') or (player1[p]=='o'):\n",
        "        print('player1 is ' , player1[p], ' and player2 is ' ,player2[p])\n",
        "        return False\n",
        "    return False                              \n",
        "        \n",
        "pass  "
      ]
    },
    {
      "cell_type": "code",
      "execution_count": null,
      "metadata": {
        "id": "JRjOAF6uW1KP"
      },
      "outputs": [],
      "source": [
        "import random\n",
        "\n",
        "def choose_first():\n",
        "  global a\n",
        "  a = random.randint(1,2)\n",
        "  print('the player which going to start first is player',a)\n",
        "  if a == 1:\n",
        "    player1[p] = player1[p]\n",
        "  elif a==2:\n",
        "    player1[p] = player2[p]\n",
        "\n",
        "pass"
      ]
    },
    {
      "cell_type": "code",
      "execution_count": null,
      "metadata": {
        "id": "jFLsSnbZ-CT2"
      },
      "outputs": [],
      "source": [
        "def player_choice(board):\n",
        " global inp\n",
        " inp = int(input('enter a number 1-9:  '))\n",
        " if inp >=1 and inp <= 9 and board[inp-1] != 'x' and  board[inp-1] != 'o':\n",
        "   board[inp-1]= player1[p]\n",
        " else:\n",
        "   print('oops, this integer is already taken ,try again')\n",
        " \n",
        "pass"
      ]
    },
    {
      "cell_type": "code",
      "execution_count": null,
      "metadata": {
        "id": "Zym0F-FS9BhH"
      },
      "outputs": [],
      "source": [
        "def place_marker(board, mark, position):\n",
        "    display_board(test_board)\n",
        "    board[position-1] = mark \n",
        "    \n",
        "    pass"
      ]
    },
    {
      "cell_type": "code",
      "execution_count": null,
      "metadata": {
        "id": "oJUlA7-CIuAu"
      },
      "outputs": [],
      "source": [
        "def swith_player():\n",
        "     if player1[p] == 'x':\n",
        "        player1[p] = 'o'\n",
        "     else:\n",
        "        player1[p] = 'x'\n",
        "pass"
      ]
    },
    {
      "cell_type": "code",
      "execution_count": null,
      "metadata": {
        "id": "kqF24AjdKyVo"
      },
      "outputs": [],
      "source": [
        "def space_check(board, position):\n",
        "   global gameRunning\n",
        "   if board[position-1]!= 'x' and board[position-1]!= 'o':\n",
        "     gameRunning = True\n",
        "   else:\n",
        "     gameRunning = False\n",
        "pass"
      ]
    },
    {
      "cell_type": "code",
      "execution_count": null,
      "metadata": {
        "id": "kVW1aPkDQTgk"
      },
      "outputs": [],
      "source": [
        "from prompt_toolkit.widgets.base import Border\n",
        "def full_board_check(board):\n",
        "   \n",
        "    \n",
        "    gameRunning = any(board[i] != 'x' or board[i] != 'o' for i in range(0,9))\n",
        "    \n",
        "    \n",
        "pass"
      ]
    },
    {
      "cell_type": "code",
      "execution_count": null,
      "metadata": {
        "id": "ITdAyftR9QrK"
      },
      "outputs": [],
      "source": [
        "def win_check(board, mark):\n",
        "    global win\n",
        "        \n",
        "    if (board[0]== board [1] == board[2] == mark)or(board[0]==board [3] == board[6]== mark)or(board[1]==board [4]==board[7]== mark)or(board[3]==board [4]==board[5]== mark )or(board[2]==board [5]==board[8]== mark)or(board[6]==board [7]==board[8]== mark):\n",
        "         \n",
        "         print(\"the winner is : \",mark)\n",
        "    else:\n",
        "    \n",
        "          print('no winner yet')\n",
        "    \n",
        "pass"
      ]
    },
    {
      "cell_type": "code",
      "execution_count": null,
      "metadata": {
        "id": "5IwQrRSKXAwd"
      },
      "outputs": [],
      "source": [
        "def check_tie(board):\n",
        "    global gameRunning\n",
        "    gameRunning = any(tile.isdigit() for tile in board)\n",
        "    \n"
      ]
    },
    {
      "cell_type": "code",
      "execution_count": null,
      "metadata": {
        "id": "Ku3S1DkJduRX"
      },
      "outputs": [],
      "source": [
        "\n",
        "def replay():\n",
        "      global gameRunning\n",
        "      again = int(input('would you like to play again?  if yes return 1 and if no return 2'))\n",
        "      if again == 1:\n",
        "          gameRunning = True\n",
        "           \n",
        "\n",
        "      elif again == 2:\n",
        "         print('have a nice day')\n",
        "pass\n",
        "\n",
        "\n"
      ]
    },
    {
      "cell_type": "code",
      "execution_count": null,
      "metadata": {
        "colab": {
          "background_save": true,
          "base_uri": "https://localhost:8080/"
        },
        "id": "4rt7wIWi81jk",
        "outputId": "bd1c2db1-373b-4a23-8f41-6cf5e66e14ac"
      },
      "outputs": [
        {
          "name": "stdout",
          "output_type": "stream",
          "text": [
            "Welcome to Tic Tac Toe!\n",
            "player1 would like to take x or o ? for x print 1 and for o print 2: 1\n",
            "player1 is  x  and player2 is  o\n",
            "1 | 2 | 3\n",
            "----------\n",
            "4 | 5 | 6\n",
            "----------\n",
            "7 | 8 | 9\n",
            "the player which going to start first is player 1\n",
            "enter a number 1-9:  1\n",
            "x | 2 | 3\n",
            "----------\n",
            "4 | 5 | 6\n",
            "----------\n",
            "7 | 8 | 9\n",
            "no winner yet\n",
            "enter a number 1-9:  5\n",
            "x | 2 | 3\n",
            "----------\n",
            "4 | o | 6\n",
            "----------\n",
            "7 | 8 | 9\n",
            "no winner yet\n",
            "enter a number 1-9:  5\n",
            "oops, this integer is already taken ,try again\n",
            "x | 2 | 3\n",
            "----------\n",
            "4 | o | 6\n",
            "----------\n",
            "7 | 8 | 9\n",
            "no winner yet\n",
            "enter a number 1-9:  6\n",
            "x | 2 | 3\n",
            "----------\n",
            "4 | x | o\n",
            "----------\n",
            "7 | 8 | 9\n",
            "no winner yet\n",
            "enter a number 1-9:  9\n",
            "x | 2 | 3\n",
            "----------\n",
            "4 | x | o\n",
            "----------\n",
            "7 | 8 | x\n",
            "no winner yet\n",
            "enter a number 1-9:  8\n",
            "x | 2 | 3\n",
            "----------\n",
            "4 | x | o\n",
            "----------\n",
            "7 | o | x\n",
            "no winner yet\n",
            "enter a number 1-9:  4\n",
            "x | 2 | 3\n",
            "----------\n",
            "x | x | o\n",
            "----------\n",
            "7 | o | x\n",
            "no winner yet\n",
            "enter a number 1-9:  3\n",
            "x | 2 | o\n",
            "----------\n",
            "x | x | o\n",
            "----------\n",
            "7 | o | x\n",
            "no winner yet\n",
            "enter a number 1-9:  7\n"
          ]
        }
      ],
      "source": [
        "from IPython.lib.display import IFrame\n",
        "print('Welcome to Tic Tac Toe!')\n",
        "gameRunning = True\n",
        "full = False\n",
        "test_board = ['1','2','3','4','5','6','7','8','9']\n",
        "player_input()\n",
        "display_board(test_board)\n",
        "choose_first()\n",
        "while gameRunning is True:  \n",
        "\n",
        "  player_choice(test_board)\n",
        "  space_check(test_board, inp)\n",
        "  place_marker(test_board, player1[p], inp)\n",
        "  win_check(test_board,player1[p])\n",
        "  check_tie(test_board)\n",
        "  swith_player()\n",
        "  \n",
        "  if full_board_check(test_board) is False:\n",
        "    break\n",
        "  while gameRunning is False: \n",
        "    replay()\n",
        "    test_board = ['1','2','3','4','5','6','7','8','9']\n",
        "    if gameRunning is False:\n",
        "       break"
      ]
    }
  ],
  "metadata": {
    "colab": {
      "provenance": [],
      "include_colab_link": true
    },
    "kernelspec": {
      "display_name": "Python 3",
      "name": "python3"
    },
    "language_info": {
      "name": "python"
    }
  },
  "nbformat": 4,
  "nbformat_minor": 0
}